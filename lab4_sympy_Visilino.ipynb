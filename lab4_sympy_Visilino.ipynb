{
  "nbformat": 4,
  "nbformat_minor": 0,
  "metadata": {
    "colab": {
      "provenance": [],
      "include_colab_link": true
    },
    "kernelspec": {
      "name": "python3",
      "display_name": "Python 3"
    },
    "language_info": {
      "name": "python"
    }
  },
  "cells": [
    {
      "cell_type": "markdown",
      "metadata": {
        "id": "view-in-github",
        "colab_type": "text"
      },
      "source": [
        "<a href=\"https://colab.research.google.com/github/adrenaline999/-lab4_sympy_Visilino.ipynb/blob/main/lab4_sympy_Visilino.ipynb\" target=\"_parent\"><img src=\"https://colab.research.google.com/assets/colab-badge.svg\" alt=\"Open In Colab\"/></a>"
      ]
    },
    {
      "cell_type": "code",
      "source": [
        "pip install --upgrade sympy"
      ],
      "metadata": {
        "colab": {
          "base_uri": "https://localhost:8080/",
          "height": 530
        },
        "id": "DltSwDQ7QsR9",
        "outputId": "bef36632-fd0a-41fc-9467-0e3199d7d6e8"
      },
      "execution_count": null,
      "outputs": [
        {
          "output_type": "stream",
          "name": "stdout",
          "text": [
            "Requirement already satisfied: sympy in /usr/local/lib/python3.11/dist-packages (1.13.1)\n",
            "Collecting sympy\n",
            "  Downloading sympy-1.14.0-py3-none-any.whl.metadata (12 kB)\n",
            "Requirement already satisfied: mpmath<1.4,>=1.1.0 in /usr/local/lib/python3.11/dist-packages (from sympy) (1.3.0)\n",
            "Downloading sympy-1.14.0-py3-none-any.whl (6.3 MB)\n",
            "\u001b[2K   \u001b[90m━━━━━━━━━━━━━━━━━━━━━━━━━━━━━━━━━━━━━━━━\u001b[0m \u001b[32m6.3/6.3 MB\u001b[0m \u001b[31m66.0 MB/s\u001b[0m eta \u001b[36m0:00:00\u001b[0m\n",
            "\u001b[?25hInstalling collected packages: sympy\n",
            "  Attempting uninstall: sympy\n",
            "    Found existing installation: sympy 1.13.1\n",
            "    Uninstalling sympy-1.13.1:\n",
            "      Successfully uninstalled sympy-1.13.1\n",
            "\u001b[31mERROR: pip's dependency resolver does not currently take into account all the packages that are installed. This behaviour is the source of the following dependency conflicts.\n",
            "torch 2.6.0+cu124 requires nvidia-cublas-cu12==12.4.5.8; platform_system == \"Linux\" and platform_machine == \"x86_64\", but you have nvidia-cublas-cu12 12.5.3.2 which is incompatible.\n",
            "torch 2.6.0+cu124 requires nvidia-cuda-cupti-cu12==12.4.127; platform_system == \"Linux\" and platform_machine == \"x86_64\", but you have nvidia-cuda-cupti-cu12 12.5.82 which is incompatible.\n",
            "torch 2.6.0+cu124 requires nvidia-cuda-nvrtc-cu12==12.4.127; platform_system == \"Linux\" and platform_machine == \"x86_64\", but you have nvidia-cuda-nvrtc-cu12 12.5.82 which is incompatible.\n",
            "torch 2.6.0+cu124 requires nvidia-cuda-runtime-cu12==12.4.127; platform_system == \"Linux\" and platform_machine == \"x86_64\", but you have nvidia-cuda-runtime-cu12 12.5.82 which is incompatible.\n",
            "torch 2.6.0+cu124 requires nvidia-cudnn-cu12==9.1.0.70; platform_system == \"Linux\" and platform_machine == \"x86_64\", but you have nvidia-cudnn-cu12 9.3.0.75 which is incompatible.\n",
            "torch 2.6.0+cu124 requires nvidia-cufft-cu12==11.2.1.3; platform_system == \"Linux\" and platform_machine == \"x86_64\", but you have nvidia-cufft-cu12 11.2.3.61 which is incompatible.\n",
            "torch 2.6.0+cu124 requires nvidia-curand-cu12==10.3.5.147; platform_system == \"Linux\" and platform_machine == \"x86_64\", but you have nvidia-curand-cu12 10.3.6.82 which is incompatible.\n",
            "torch 2.6.0+cu124 requires nvidia-cusolver-cu12==11.6.1.9; platform_system == \"Linux\" and platform_machine == \"x86_64\", but you have nvidia-cusolver-cu12 11.6.3.83 which is incompatible.\n",
            "torch 2.6.0+cu124 requires nvidia-cusparse-cu12==12.3.1.170; platform_system == \"Linux\" and platform_machine == \"x86_64\", but you have nvidia-cusparse-cu12 12.5.1.3 which is incompatible.\n",
            "torch 2.6.0+cu124 requires nvidia-nvjitlink-cu12==12.4.127; platform_system == \"Linux\" and platform_machine == \"x86_64\", but you have nvidia-nvjitlink-cu12 12.5.82 which is incompatible.\n",
            "torch 2.6.0+cu124 requires sympy==1.13.1; python_version >= \"3.9\", but you have sympy 1.14.0 which is incompatible.\u001b[0m\u001b[31m\n",
            "\u001b[0mSuccessfully installed sympy-1.14.0\n"
          ]
        },
        {
          "output_type": "display_data",
          "data": {
            "application/vnd.colab-display-data+json": {
              "pip_warning": {
                "packages": [
                  "sympy"
                ]
              },
              "id": "afc638d0784e44279fda0e17fb375507"
            }
          },
          "metadata": {}
        }
      ]
    },
    {
      "cell_type": "markdown",
      "source": [
        "BASIC LIMIT"
      ],
      "metadata": {
        "id": "srjnFrkfRE57"
      }
    },
    {
      "cell_type": "code",
      "source": [
        "from sympy import *\n",
        "x, y, z, t = symbols('x y z t')\n",
        "\n",
        "expr = sin(x) / x\n",
        "limit_val = limit(expr, x, 0)\n",
        "print(f\"Limit of {expr} as x->0: {limit_val}\")"
      ],
      "metadata": {
        "colab": {
          "base_uri": "https://localhost:8080/"
        },
        "id": "RxUKzCYpQufp",
        "outputId": "edc5a5ba-ff52-41af-eed4-01f01f9e7c80"
      },
      "execution_count": null,
      "outputs": [
        {
          "output_type": "stream",
          "name": "stdout",
          "text": [
            "Limit of sin(x)/x as x->0: 1\n"
          ]
        }
      ]
    },
    {
      "cell_type": "markdown",
      "source": [
        "LIMIT AT INFINITY"
      ],
      "metadata": {
        "id": "12JNQ54QRMLG"
      }
    },
    {
      "cell_type": "code",
      "source": [
        "expr = 1 / x\n",
        "limit_val = limit(expr, x, oo)\n",
        "print(f\"Limit of {expr} as x->infinity: {limit_val}\")"
      ],
      "metadata": {
        "colab": {
          "base_uri": "https://localhost:8080/"
        },
        "id": "UGXeTBijRMvV",
        "outputId": "adca6b7f-5b38-4e25-9419-fca5e5ef5500"
      },
      "execution_count": null,
      "outputs": [
        {
          "output_type": "stream",
          "name": "stdout",
          "text": [
            "Limit of 1/x as x->infinity: 0\n"
          ]
        }
      ]
    },
    {
      "cell_type": "markdown",
      "source": [
        "Derivatives (Differentiation)"
      ],
      "metadata": {
        "id": "a8d7dHb4RXb-"
      }
    },
    {
      "cell_type": "code",
      "source": [
        "expr = x**2\n",
        "derivative = diff(expr, x)\n",
        "print(f\"Derivative of {expr} w.r.t. x: {derivative}\")\n",
        "\n",
        "expr = 3*x**3 + 2*x + 5\n",
        "derivative = diff(expr, x)\n",
        "print(f\"Derivative of {expr} w.r.t. x: {derivative}\")"
      ],
      "metadata": {
        "colab": {
          "base_uri": "https://localhost:8080/"
        },
        "id": "Pa7anOWPRaV9",
        "outputId": "d46a193a-72e1-4fb2-aeb2-dc74e8764eb7"
      },
      "execution_count": null,
      "outputs": [
        {
          "output_type": "stream",
          "name": "stdout",
          "text": [
            "Derivative of x**2 w.r.t. x: 2*x\n",
            "Derivative of 3*x**3 + 2*x + 5 w.r.t. x: 9*x**2 + 2\n"
          ]
        }
      ]
    },
    {
      "cell_type": "markdown",
      "source": [
        "Higher-Order Derivative"
      ],
      "metadata": {
        "id": "OkbYL_t8RcXC"
      }
    },
    {
      "cell_type": "code",
      "source": [
        "expr = sin(x)\n",
        "second_derivative = diff(expr, x, 2)\n",
        "print(f\"Second derivative of {expr} w.r.t. x: {second_derivative}\")"
      ],
      "metadata": {
        "colab": {
          "base_uri": "https://localhost:8080/"
        },
        "id": "yuMnmUWSRgAU",
        "outputId": "52b94b2e-654b-4bcf-82da-424cd3e5b9d9"
      },
      "execution_count": null,
      "outputs": [
        {
          "output_type": "stream",
          "name": "stdout",
          "text": [
            "Second derivative of sin(x) w.r.t. x: -sin(x)\n"
          ]
        }
      ]
    },
    {
      "cell_type": "markdown",
      "source": [
        "Partial Derivatives"
      ],
      "metadata": {
        "id": "a8PgGtnyRiFK"
      }
    },
    {
      "cell_type": "code",
      "source": [
        "expr = x**2 * y + y**3\n",
        "partial_derivative_x = diff(expr, x)\n",
        "print(f\"Partial derivative of {expr} w.r.t. x: {partial_derivative_x}\")\n",
        "\n",
        "partial_derivative_y = diff(expr, y)\n",
        "print(f\"Partial derivative of {expr} w.r.t. y: {partial_derivative_y}\")"
      ],
      "metadata": {
        "colab": {
          "base_uri": "https://localhost:8080/"
        },
        "id": "o86UllyURj-O",
        "outputId": "064dafb8-49a5-4a4a-907a-ac1216bad055"
      },
      "execution_count": null,
      "outputs": [
        {
          "output_type": "stream",
          "name": "stdout",
          "text": [
            "Partial derivative of x**2*y + y**3 w.r.t. x: 2*x*y\n",
            "Partial derivative of x**2*y + y**3 w.r.t. y: x**2 + 3*y**2\n"
          ]
        }
      ]
    },
    {
      "cell_type": "markdown",
      "source": [
        "Integrals (Integration)\n"
      ],
      "metadata": {
        "id": "G8Uc5FodRnft"
      }
    },
    {
      "cell_type": "code",
      "source": [
        "expr = x**2\n",
        "indefinite_integral = integrate(expr, x)\n",
        "print(f\"Indefinite integral of {expr} w.r.t. x: {indefinite_integral}\")"
      ],
      "metadata": {
        "colab": {
          "base_uri": "https://localhost:8080/"
        },
        "id": "eF7i1LpGRqRb",
        "outputId": "31b3c971-119b-40b0-cc57-7f001ebba730"
      },
      "execution_count": null,
      "outputs": [
        {
          "output_type": "stream",
          "name": "stdout",
          "text": [
            "Indefinite integral of x**2 w.r.t. x: x**3/3\n"
          ]
        }
      ]
    },
    {
      "cell_type": "markdown",
      "source": [
        "Definite Integral"
      ],
      "metadata": {
        "id": "r96hw_-HRstx"
      }
    },
    {
      "cell_type": "code",
      "source": [
        "expr = x**2\n",
        "definite_integral = integrate(expr, (x, 0, 2))\n",
        "print(f\"Definite integral of {expr} from 0 to 2: {definite_integral}\")"
      ],
      "metadata": {
        "id": "ugt-XoynRvHB"
      },
      "execution_count": null,
      "outputs": []
    },
    {
      "cell_type": "markdown",
      "source": [
        "Multiple Integrals"
      ],
      "metadata": {
        "id": "_agHmc3dRwtZ"
      }
    },
    {
      "cell_type": "code",
      "source": [
        "expr = x * y**2\n",
        "multiple_integral = integrate(expr, y, x)\n",
        "print(f\"Multiple integral of {expr} w.r.t. y, then x: {multiple_integral}\")"
      ],
      "metadata": {
        "colab": {
          "base_uri": "https://localhost:8080/"
        },
        "id": "fTg9_oh8RznC",
        "outputId": "9de2f563-afd5-4781-9d35-083177d50c0f"
      },
      "execution_count": null,
      "outputs": [
        {
          "output_type": "stream",
          "name": "stdout",
          "text": [
            "Multiple integral of x*y**2 w.r.t. y, then x: x**2*y**3/6\n"
          ]
        }
      ]
    },
    {
      "cell_type": "markdown",
      "source": [
        "Series Expansion (Taylor/Maclaurin Series)"
      ],
      "metadata": {
        "id": "GcqSgRhNR2O4"
      }
    },
    {
      "cell_type": "code",
      "source": [
        "expr = sin(x)\n",
        "series_expansion = expr.series(x, 0, 6)\n",
        "print(f\"Taylor series of {expr} around x=0 up to order 6: {series_expansion}\")\n",
        "\n",
        "expr = exp(x)\n",
        "series_expansion_exp = expr.series(x, 0, 5)\n",
        "print(f\"Taylor series of {expr} around x=0 up to order 5: {series_expansion_exp}\")"
      ],
      "metadata": {
        "id": "VVCNLOwGR4tp"
      },
      "execution_count": null,
      "outputs": []
    },
    {
      "cell_type": "markdown",
      "source": [
        "Solving Equations"
      ],
      "metadata": {
        "id": "Xg-22k4fR6fJ"
      }
    },
    {
      "cell_type": "code",
      "source": [
        "equation = Eq(x**2 - 4, 0)\n",
        "solutions = solve(equation, x)\n",
        "print(f\"Solutions for {equation}: {solutions}\")\n",
        "\n",
        "solutions_quadratic = solve(x**2 - 5*x + 6, x)\n",
        "print(f\"Solutions for x^2 - 5x + 6 = 0: {solutions_quadratic}\")"
      ],
      "metadata": {
        "colab": {
          "base_uri": "https://localhost:8080/"
        },
        "id": "-v9ywGapR-Fj",
        "outputId": "2537dfbf-d2a8-41b7-f77d-745aa1c4e308"
      },
      "execution_count": null,
      "outputs": [
        {
          "output_type": "stream",
          "name": "stdout",
          "text": [
            "Solutions for Eq(x**2 - 4, 0): [-2, 2]\n",
            "Solutions for x^2 - 5x + 6 = 0: [2, 3]\n"
          ]
        }
      ]
    }
  ]
}